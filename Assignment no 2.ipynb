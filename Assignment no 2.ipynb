{
 "cells": [
  {
   "cell_type": "code",
   "execution_count": 3,
   "metadata": {},
   "outputs": [
    {
     "name": "stdout",
     "output_type": "stream",
     "text": [
      "Enter marks of the first subject: 60\n",
      "Enter marks of the second subject: 70\n",
      "Enter marks of the third subject: 80\n",
      "Enter marks of the fourth subject: 90\n",
      "Enter marks of the fifth subject: 100\n",
      "Grade: C\n"
     ]
    }
   ],
   "source": [
    "#Q1\n",
    "#Marksheet\n",
    "sub1=int(input(\"Enter marks of the first subject: \"))\n",
    "sub2=int(input(\"Enter marks of the second subject: \"))\n",
    "sub3=int(input(\"Enter marks of the third subject: \"))\n",
    "sub4=int(input(\"Enter marks of the fourth subject: \"))\n",
    "sub5=int(input(\"Enter marks of the fifth subject: \"))\n",
    "avg=(sub1+sub2+sub3+sub4+sub4)/5\n",
    "if(avg>=90):\n",
    "    print(\"Grade: A\")\n",
    "elif(avg>=80 and avg<90):\n",
    "    print(\"Grade: B\")\n",
    "elif(avg>=70 and avg<80):\n",
    "    print(\"Grade: C\")\n",
    "elif(avg>=60 and avg<70):\n",
    "    print(\"Grade: D\")\n",
    "else:\n",
    "    print(\"Grade: F\")"
   ]
  },
  {
   "cell_type": "code",
   "execution_count": 4,
   "metadata": {},
   "outputs": [
    {
     "name": "stdout",
     "output_type": "stream",
     "text": [
      "Enter a number: 6\n",
      "This is an even number.\n"
     ]
    }
   ],
   "source": [
    "#Q2\n",
    "num = int(input(\"Enter a number: \"))\n",
    "mod = num % 2\n",
    "if mod > 0:\n",
    "    print(\"This is an odd number.\")\n",
    "else:\n",
    "    print(\"This is an even number.\")"
   ]
  },
  {
   "cell_type": "code",
   "execution_count": 30,
   "metadata": {},
   "outputs": [
    {
     "name": "stdout",
     "output_type": "stream",
     "text": [
      "Number of items in the list =  8\n"
     ]
    }
   ],
   "source": [
    "#Q3\n",
    "len_list = [1, 5, 9, 'x','y','z', 20, 25] \n",
    "print (\"Number of items in the list = \", len(len_list))\n"
   ]
  },
  {
   "cell_type": "code",
   "execution_count": 22,
   "metadata": {},
   "outputs": [
    {
     "name": "stdout",
     "output_type": "stream",
     "text": [
      "25\n"
     ]
    }
   ],
   "source": [
    "#Q4\n",
    "numbers = [1,2,3,4,5,1,4,5] \n",
    "  \n",
    "# start parameter is not provided \n",
    "Sum = sum(numbers) \n",
    "print(Sum)"
   ]
  },
  {
   "cell_type": "code",
   "execution_count": 24,
   "metadata": {},
   "outputs": [
    {
     "name": "stdout",
     "output_type": "stream",
     "text": [
      "How many numbers: 3\n",
      "Enter number 2\n",
      "Enter number 4\n",
      "Enter number 50\n",
      "Maximum element in the list is : 50\n"
     ]
    }
   ],
   "source": [
    "#Q5\n",
    "lst = []\n",
    "num = int(input('How many numbers: '))\n",
    "for n in range(num):\n",
    "    numbers = int(input('Enter number '))\n",
    "    lst.append(numbers)\n",
    "print(\"Maximum element in the list is :\", max(lst))"
   ]
  },
  {
   "cell_type": "markdown",
   "metadata": {},
   "source": []
  },
  {
   "cell_type": "code",
   "execution_count": 29,
   "metadata": {},
   "outputs": [
    {
     "name": "stdout",
     "output_type": "stream",
     "text": [
      "[1]\n",
      "[1, 1]\n",
      "[1, 1, 2]\n",
      "[1, 1, 2, 3]\n"
     ]
    }
   ],
   "source": [
    "#Q6\n",
    "a = [1, 1, 2, 3, 5, 8, 13, 21, 34, 55, 89]\n",
    "\n",
    "new_list = []\n",
    "for item in a:\n",
    "      if item < 5:    \n",
    "        new_list.append(item)\n",
    "        print(new_list)"
   ]
  },
  {
   "cell_type": "code",
   "execution_count": null,
   "metadata": {},
   "outputs": [],
   "source": []
  }
 ],
 "metadata": {
  "kernelspec": {
   "display_name": "Python 3",
   "language": "python",
   "name": "python3"
  },
  "language_info": {
   "codemirror_mode": {
    "name": "ipython",
    "version": 3
   },
   "file_extension": ".py",
   "mimetype": "text/x-python",
   "name": "python",
   "nbconvert_exporter": "python",
   "pygments_lexer": "ipython3",
   "version": "3.7.4"
  }
 },
 "nbformat": 4,
 "nbformat_minor": 2
}
