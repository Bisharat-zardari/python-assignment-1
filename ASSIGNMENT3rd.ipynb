{
 "cells": [
  {
   "cell_type": "code",
   "execution_count": 1,
   "metadata": {},
   "outputs": [
    {
     "name": "stdout",
     "output_type": "stream",
     "text": [
      "Select operation.\n",
      "1.Add\n",
      "2.Subtract\n",
      "3.Multiply\n",
      "4.Divide\n",
      "Enter choice(1|2|3|4): 4\n",
      "Enter first number: 3\n",
      "Enter second number: 2\n",
      "3.0 / 2.0 = 1.5\n"
     ]
    }
   ],
   "source": [
    "#Q1\n",
    "def add(x, y):\n",
    "   return x + y\n",
    "\n",
    "# This function subtracts two numbers \n",
    "def subtract(x, y):\n",
    "   return x - y\n",
    "\n",
    "# This function multiplies two numbers\n",
    "def multiply(x, y):\n",
    "   return x * y\n",
    "\n",
    "# This function divides two numbers\n",
    "def divide(x, y):\n",
    "   return x / y\n",
    "\n",
    "print(\"Select operation.\")\n",
    "print(\"1.Add\")\n",
    "print(\"2.Subtract\")\n",
    "print(\"3.Multiply\")\n",
    "print(\"4.Divide\")\n",
    "\n",
    "choice = input(\"Enter choice(1|2|3|4): \")\n",
    "\n",
    "num1 = float(input(\"Enter first number: \"))\n",
    "num2 = float(input(\"Enter second number: \"))\n",
    "\n",
    "if choice == '1':\n",
    "   print(num1,\"+\",num2,\"=\", add(num1,num2))\n",
    "\n",
    "elif choice == '2':\n",
    "   print(num1,\"-\",num2,\"=\", subtract(num1,num2))\n",
    "\n",
    "elif choice == '3':\n",
    "   print(num1,\"*\",num2,\"=\", multiply(num1,num2))\n",
    "\n",
    "elif choice == '4':\n",
    "   print(num1,\"/\",num2,\"=\", divide(num1,num2))\n",
    "else:\n",
    "   print(\"Invalid input\")"
   ]
  },
  {
   "cell_type": "code",
   "execution_count": 20,
   "metadata": {},
   "outputs": [
    {
     "name": "stdout",
     "output_type": "stream",
     "text": [
      "Enter the start of range: -3\n",
      "Enter th3e end of range: 4\n",
      "0 1 2 3 4 "
     ]
    }
   ],
   "source": [
    "#Q2\n",
    "start = int(input(\"Enter the start of range: \")) \n",
    "end = int(input(\"Enter the end of range: \")) \n",
    "  \n",
    "# iterating each number in list \n",
    "for num in range(start, end + 1): \n",
    "      \n",
    "    # checking condition \n",
    "    if num >= 0: \n",
    "        print(num, end = \" \")"
   ]
  },
  {
   "cell_type": "code",
   "execution_count": 2,
   "metadata": {},
   "outputs": [
    {
     "name": "stdout",
     "output_type": "stream",
     "text": [
      "{0: 25, 3: 45}\n",
      "{0: 25, 3: 45, 6: 40}\n"
     ]
    }
   ],
   "source": [
    "#Q3\n",
    "#Program to add a key to a dictionary\n",
    "d = {0:25, 3:45}  \n",
    "print(d)  \n",
    "d.update({6:40})  \n",
    "print(d) "
   ]
  },
  {
   "cell_type": "code",
   "execution_count": 4,
   "metadata": {},
   "outputs": [
    {
     "name": "stdout",
     "output_type": "stream",
     "text": [
      "454\n"
     ]
    }
   ],
   "source": [
    "#Q4\n",
    "#Sum all numeric items in dictionary\n",
    "d = {\n",
    "   'bat': 110,\n",
    "   'ball': 304,\n",
    "   'toy': 40\n",
    "}\n",
    "print(sum(d.values()))"
   ]
  },
  {
   "cell_type": "code",
   "execution_count": 22,
   "metadata": {
    "scrolled": true
   },
   "outputs": [
    {
     "data": {
      "text/plain": [
       "[1, 2, 5]"
      ]
     },
     "execution_count": 22,
     "metadata": {},
     "output_type": "execute_result"
    }
   ],
   "source": [
    "#Q5\n",
    "\n",
    "\n",
    "def list_duplicates(seq):\n",
    "  seen = set()\n",
    "  seen_add = seen.add\n",
    "  \n",
    "  seen_twice = set( x for x in seq if x in seen or seen_add(x) )\n",
    "\n",
    "  return list( seen_twice )\n",
    "\n",
    "a = [1,2,3,2,1,5,6,5,5,5]\n",
    "list_duplicates(a)"
   ]
  },
  {
   "cell_type": "code",
   "execution_count": 23,
   "metadata": {},
   "outputs": [
    {
     "name": "stdout",
     "output_type": "stream",
     "text": [
      "{'z': 10, 'l': 50, 'c': 74, 'm': 12, 'f': 44, 'g': 19}\n",
      "True\n",
      "True\n"
     ]
    }
   ],
   "source": [
    "#Q6\n",
    "# Python's program to check if a given key already exists in a dictionary\n",
    " \n",
    "x = {'z': 10, 'l': 50, 'c': 74, 'm': 12, 'f': 44, 'g': 19}\n",
    " \n",
    "print(x)\n",
    " \n",
    "if 'z' in x.keys():\n",
    "    print(\"True\")\n",
    "else:\n",
    "    print(\"False\")\n",
    " \n",
    "# Using ternary operator:\n",
    "msg = \"True\" if 'z' in x else \"False\"\n",
    "print(msg)"
   ]
  },
  {
   "cell_type": "code",
   "execution_count": null,
   "metadata": {},
   "outputs": [],
   "source": []
  }
 ],
 "metadata": {
  "kernelspec": {
   "display_name": "Python 3",
   "language": "python",
   "name": "python3"
  },
  "language_info": {
   "codemirror_mode": {
    "name": "ipython",
    "version": 3
   },
   "file_extension": ".py",
   "mimetype": "text/x-python",
   "name": "python",
   "nbconvert_exporter": "python",
   "pygments_lexer": "ipython3",
   "version": "3.7.4"
  }
 },
 "nbformat": 4,
 "nbformat_minor": 2
}
