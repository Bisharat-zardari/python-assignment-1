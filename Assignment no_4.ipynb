{
 "cells": [
  {
   "cell_type": "code",
   "execution_count": 1,
   "metadata": {},
   "outputs": [
    {
     "name": "stdout",
     "output_type": "stream",
     "text": [
      "[{'first_name': 'ABC', 'last _name': 'XYZ', 'age': 20, 'city': 'Hyderabad'}, {'qualification': 'High academic level'}]\n",
      "[{'first_name': 'ABC', 'last _name': 'XYZ', 'age': 20, 'city': 'Hyderabad'}, {}]\n"
     ]
    }
   ],
   "source": [
    "#Q1\n",
    "data = [\n",
    "    {\n",
    "    'first_name' : 'ABC',\n",
    "    'last _name' : 'XYZ',\n",
    "    'age' : 20,\n",
    "    'city' : 'Hyderabad',\n",
    "}\n",
    "]\n",
    "qualification = {\n",
    "        \"qualification\" : \" \"\n",
    "}\n",
    "\n",
    "data.append(qualification)\n",
    "qualification.update({\"qualification\" : \"High academic level\"})\n",
    "print(data)\n",
    "qualification.popitem()\n",
    "print(data)\n"
   ]
  },
  {
   "cell_type": "code",
   "execution_count": 2,
   "metadata": {},
   "outputs": [
    {
     "name": "stdout",
     "output_type": "stream",
     "text": [
      "{'Karachi': {'Country': 'Pakistan', 'population': '14.91 million', 'fact': 'It is the Sixth largest city in the world by city population'}, 'Las_Vegas': {'Country': 'USA', 'population': '641,676', 'fact': 'Nuclear bombs were detonated 50 miles from Vegas.'}, 'Toronto': {'Country': 'Canada', 'population': '2.93 million', 'fact': 'Toronto is the world’s fourth most livable city.'}}\n"
     ]
    }
   ],
   "source": [
    "#Q2\n",
    "cities_info = {\n",
    "\n",
    "\"Karachi\" : {\n",
    "    \"Country\" : \"Pakistan\",\n",
    "    \"population\" : \"14.91 million\",\n",
    "    \"fact\" : \"It is the Sixth largest city in the world by city population\"\n",
    "},\n",
    "\"Las_Vegas\":   {\"Country\" :  \"USA\",\n",
    "    \"population\": \"641,676\",\n",
    "      \"fact\" : \"Nuclear bombs were detonated 50 miles from Vegas.\"\n",
    "\n",
    "\n",
    "},\n",
    "\"Toronto\" :    {\"Country\" :   \"Canada\",\n",
    "        \"population\": \"2.93 million\",\n",
    "        \"fact\" :\"Toronto is the world’s fourth most livable city.\"\n",
    "\n",
    "}\n",
    "}\n",
    "print(cities_info)"
   ]
  },
  {
   "cell_type": "code",
   "execution_count": 3,
   "metadata": {},
   "outputs": [
    {
     "name": "stdout",
     "output_type": "stream",
     "text": [
      "Enter your age:10\n",
      "Your ticket cost is 10$\n",
      "Enter your age:2\n",
      "Your ticket is Free\n",
      "Enter your age:15\n",
      "Your ticket cost is 15$\n",
      "Enter your age:\n"
     ]
    },
    {
     "ename": "ValueError",
     "evalue": "invalid literal for int() with base 10: ''",
     "output_type": "error",
     "traceback": [
      "\u001b[1;31m---------------------------------------------------------------------------\u001b[0m",
      "\u001b[1;31mValueError\u001b[0m                                Traceback (most recent call last)",
      "\u001b[1;32m<ipython-input-3-25bcd28d5df0>\u001b[0m in \u001b[0;36m<module>\u001b[1;34m\u001b[0m\n\u001b[0;32m      2\u001b[0m \u001b[1;33m\u001b[0m\u001b[0m\n\u001b[0;32m      3\u001b[0m \u001b[1;32mwhile\u001b[0m \u001b[1;32mTrue\u001b[0m\u001b[1;33m:\u001b[0m\u001b[1;33m\u001b[0m\u001b[1;33m\u001b[0m\u001b[0m\n\u001b[1;32m----> 4\u001b[1;33m     \u001b[0mage\u001b[0m \u001b[1;33m=\u001b[0m\u001b[0mint\u001b[0m\u001b[1;33m(\u001b[0m\u001b[0minput\u001b[0m\u001b[1;33m(\u001b[0m\u001b[1;34m\"Enter your age:\"\u001b[0m\u001b[1;33m)\u001b[0m\u001b[1;33m)\u001b[0m\u001b[1;33m\u001b[0m\u001b[1;33m\u001b[0m\u001b[0m\n\u001b[0m\u001b[0;32m      5\u001b[0m     \u001b[1;32mif\u001b[0m \u001b[0mage\u001b[0m \u001b[1;33m<\u001b[0m \u001b[1;36m3\u001b[0m\u001b[1;33m:\u001b[0m\u001b[1;33m\u001b[0m\u001b[1;33m\u001b[0m\u001b[0m\n\u001b[0;32m      6\u001b[0m         \u001b[0mprint\u001b[0m\u001b[1;33m(\u001b[0m\u001b[1;34m\"Your ticket is Free\"\u001b[0m\u001b[1;33m)\u001b[0m\u001b[1;33m\u001b[0m\u001b[1;33m\u001b[0m\u001b[0m\n",
      "\u001b[1;31mValueError\u001b[0m: invalid literal for int() with base 10: ''"
     ]
    }
   ],
   "source": [
    "#Q3\n",
    "\n",
    "while True:\n",
    "    age =int(input(\"Enter your age:\"))\n",
    "    if age < 3:\n",
    "        print(\"Your ticket is Free\")\n",
    "    elif age < 13 :\n",
    "        print(\"Your ticket cost is 10$\")\n",
    "    else :\n",
    "        print(\"Your ticket cost is 15$\")\n"
   ]
  },
  {
   "cell_type": "code",
   "execution_count": 4,
   "metadata": {},
   "outputs": [
    {
     "name": "stdout",
     "output_type": "stream",
     "text": [
      "One of my fav books is Alice in the wonderland\n"
     ]
    }
   ],
   "source": [
    "#Q4\n",
    "def favorite_book(title):\n",
    "    print(\"One of my fav books is \"+title)\n",
    "\n",
    "favorite_book(\"Alice in the wonderland\")"
   ]
  },
  {
   "cell_type": "code",
   "execution_count": 5,
   "metadata": {},
   "outputs": [
    {
     "name": "stdout",
     "output_type": "stream",
     "text": [
      "Guess the number\n",
      "5\n",
      "Your guess is too low\n",
      "Guess the number\n",
      "10\n",
      "Your guess is too low\n",
      "Guess the number\n",
      "15\n",
      "Your guess is too low\n",
      "You took all the guesses the number was 20\n"
     ]
    }
   ],
   "source": [
    "#Q5\n",
    "import random\n",
    "guessestaken= 0\n",
    "num=random.randint(1,30)\n",
    "while guessestaken < 3:\n",
    "    print(\"Guess the number\")\n",
    "    guess = input()\n",
    "    guess = int(guess)\n",
    "\n",
    "    guessestaken =guessestaken + 1\n",
    "\n",
    "    if guess < num:\n",
    "        print(\"Your guess is too low\")\n",
    "    if guess > num:\n",
    "        print(\"Your guess is too high\")\n",
    "    if guess == num:\n",
    "        break\n",
    "\n",
    "if guess == num:\n",
    "    guessestaken =str(guessestaken)\n",
    "    print(\"You guessed it in\" \" \" +guessestaken+ \" \" 'guesses')\n",
    "if guess != num:\n",
    "    guessestaken =str(guessestaken)\n",
    "    print(\"You took all the guesses the number was\" \" \"+str(num))"
   ]
  },
  {
   "cell_type": "code",
   "execution_count": null,
   "metadata": {},
   "outputs": [],
   "source": []
  }
 ],
 "metadata": {
  "kernelspec": {
   "display_name": "Python 3",
   "language": "python",
   "name": "python3"
  },
  "language_info": {
   "codemirror_mode": {
    "name": "ipython",
    "version": 3
   },
   "file_extension": ".py",
   "mimetype": "text/x-python",
   "name": "python",
   "nbconvert_exporter": "python",
   "pygments_lexer": "ipython3",
   "version": "3.7.4"
  }
 },
 "nbformat": 4,
 "nbformat_minor": 2
}
