{
 "cells": [
  {
   "cell_type": "code",
   "execution_count": 4,
   "metadata": {},
   "outputs": [
    {
     "name": "stdout",
     "output_type": "stream",
     "text": [
      "Twinkle, twinkle, little star,\n",
      "\tHow I wonder what you are!\n",
      "\t\t\tUp above the world so high\n",
      "\t\t\tLike a diamond in the sky.\n",
      "Twinkle, twinkle, little star,\n",
      "\tHow I wonder what you are\n"
     ]
    }
   ],
   "source": [
    "#Q1\n",
    "print ('Twinkle, twinkle, little star,\\n\\tHow I wonder what you are!\\n\\t\\t\\tUp above the world so high\\n\\t\\t\\tLike a diamond in the sky.\\nTwinkle, twinkle, little star,\\n\\tHow I wonder what you are');"
   ]
  },
  {
   "cell_type": "code",
   "execution_count": 5,
   "metadata": {},
   "outputs": [
    {
     "name": "stdout",
     "output_type": "stream",
     "text": [
      "Python version\n",
      "3.7.4 (default, Aug  9 2019, 18:34:13) [MSC v.1915 64 bit (AMD64)]\n"
     ]
    }
   ],
   "source": [
    "#Q2\n",
    "\n",
    "import sys\n",
    "print(\"Python version\")\n",
    "print (sys.version)"
   ]
  },
  {
   "cell_type": "code",
   "execution_count": 6,
   "metadata": {},
   "outputs": [
    {
     "name": "stdout",
     "output_type": "stream",
     "text": [
      "2019-11-04 11:03:54.556384\n"
     ]
    }
   ],
   "source": [
    "#Q3\n",
    "\n",
    "import datetime\n",
    "datetime_ob = datetime.datetime.today()\n",
    "print(datetime_ob)"
   ]
  },
  {
   "cell_type": "code",
   "execution_count": 7,
   "metadata": {},
   "outputs": [
    {
     "name": "stdout",
     "output_type": "stream",
     "text": [
      " Enter radius of the circle = 3\n"
     ]
    }
   ],
   "source": [
    "#Q4\n",
    "\n",
    "r =float(input(\" Enter radius of the circle = \"))\n",
    "Area = 3.14*r**2\n"
   ]
  },
  {
   "cell_type": "code",
   "execution_count": 8,
   "metadata": {},
   "outputs": [
    {
     "name": "stdout",
     "output_type": "stream",
     "text": [
      "Enter your first name = Bisharat\n",
      "Enter your last name = Zardari\n",
      "Name in reverse =  Zardari Bisharat\n"
     ]
    }
   ],
   "source": [
    "#Q5\n",
    "\n",
    "fn=input(\"Enter your first name = \")\n",
    "ln=input(\"Enter your last name = \")\n",
    "print(\"Name in reverse = \",ln + \" \" + fn)\n"
   ]
  },
  {
   "cell_type": "code",
   "execution_count": 9,
   "metadata": {},
   "outputs": [
    {
     "name": "stdout",
     "output_type": "stream",
     "text": [
      "Enter first number = 3\n",
      "Enter second number = 5\n",
      "Result = 8\n"
     ]
    }
   ],
   "source": [
    "#Q6\n",
    "\n",
    "one= int(input(\"Enter first number = \"))\n",
    "two= int(input(\"Enter second number = \"))\n",
    "output= one + two\n",
    "print(\"Result =\",output)\n",
    "\n"
   ]
  },
  {
   "cell_type": "code",
   "execution_count": null,
   "metadata": {},
   "outputs": [],
   "source": []
  }
 ],
 "metadata": {
  "kernelspec": {
   "display_name": "Python 3",
   "language": "python",
   "name": "python3"
  },
  "language_info": {
   "codemirror_mode": {
    "name": "ipython",
    "version": 3
   },
   "file_extension": ".py",
   "mimetype": "text/x-python",
   "name": "python",
   "nbconvert_exporter": "python",
   "pygments_lexer": "ipython3",
   "version": "3.7.4"
  }
 },
 "nbformat": 4,
 "nbformat_minor": 2
}
