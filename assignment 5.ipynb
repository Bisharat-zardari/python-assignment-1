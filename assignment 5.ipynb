{
 "cells": [
  {
   "cell_type": "code",
   "execution_count": 2,
   "metadata": {},
   "outputs": [
    {
     "name": "stdout",
     "output_type": "stream",
     "text": [
      "Enter number:3\n",
      "The factorial for 3 is 6\n"
     ]
    }
   ],
   "source": [
    "#Q1\n",
    "\n",
    "def fact():\n",
    "    num=int(input(\"Enter number:\"))\n",
    "    factorial = 1\n",
    "    if num < 0:\n",
    "        print(\"Factorial not possible\")\n",
    "    elif num == 0:\n",
    "        print(\"The Factorial for 0 is 1\")\n",
    "    else:\n",
    "        for i in range(1,num+1):\n",
    "            factorial=factorial*i\n",
    "        print(\"The factorial for {} is {}\".format(num,factorial))\n",
    "fact()\n"
   ]
  },
  {
   "cell_type": "code",
   "execution_count": 3,
   "metadata": {},
   "outputs": [
    {
     "name": "stdout",
     "output_type": "stream",
     "text": [
      "Enter String : b\n",
      "Original String :  b\n",
      "Number of Upper case letters : 0\n",
      "Number of Lower case letters : 1\n"
     ]
    }
   ],
   "source": [
    "#Q2\n",
    "\n",
    "def Cases():\n",
    "    inp=input(\"Enter String : \")\n",
    "    d={\"UPPER_CASE\":0,\"LOWER_CASE\":0}\n",
    "    for c in inp:\n",
    "        if c.isupper():\n",
    "            d[\"UPPER_CASE\"]+=1\n",
    "        elif c.islower():\n",
    "            d[\"LOWER_CASE\"]+=1\n",
    "        else:\n",
    "            pass\n",
    "    print(\"Original String : \",inp)\n",
    "    print(\"Number of Upper case letters :\",d[\"UPPER_CASE\"]  )\n",
    "    print(\"Number of Lower case letters :\",d[\"LOWER_CASE\"]  )\n",
    "Cases()\n"
   ]
  },
  {
   "cell_type": "code",
   "execution_count": 4,
   "metadata": {},
   "outputs": [
    {
     "name": "stdout",
     "output_type": "stream",
     "text": [
      "  2\n",
      "  4\n",
      "  6\n",
      "  8\n"
     ]
    }
   ],
   "source": [
    "#Q3\n",
    "\n",
    "def even():\n",
    "    lst=[1,2,3,4,5,6,7,8]\n",
    "    for num in lst:\n",
    "        if (num%2) == 0:\n",
    "            print(\" \",num)\n",
    "even()\n"
   ]
  },
  {
   "cell_type": "code",
   "execution_count": 5,
   "metadata": {},
   "outputs": [
    {
     "name": "stdout",
     "output_type": "stream",
     "text": [
      "Yes\n"
     ]
    }
   ],
   "source": [
    "#Q4\n",
    "\n",
    "def Palindrome(s):\n",
    "\n",
    "    rev = ''.join(reversed(s))\n",
    "\n",
    "    if (s == rev):\n",
    "        return True\n",
    "    return False\n",
    "\n",
    "s = \"madam\"\n",
    "ans = Palindrome(s)\n",
    "\n",
    "if (ans):\n",
    "    print(\"Yes\")\n",
    "else:\n",
    "    print(\"No\")\n"
   ]
  },
  {
   "cell_type": "code",
   "execution_count": 6,
   "metadata": {},
   "outputs": [
    {
     "name": "stdout",
     "output_type": "stream",
     "text": [
      "3 is a Prime number\n"
     ]
    }
   ],
   "source": [
    "#Q5\n",
    "\n",
    "def isPrime(s):\n",
    "    if s > 1:\n",
    "        for i in range(2,s):\n",
    "            if (s%i)==0:\n",
    "                print(s,\"is not a Prime number\")\n",
    "                break\n",
    "        else:\n",
    "            print(s,\"is a Prime number\")\n",
    "    else:\n",
    "        print(s, \"is Not a Prime number\")\n",
    "isPrime(3)\n"
   ]
  },
  {
   "cell_type": "code",
   "execution_count": 7,
   "metadata": {},
   "outputs": [
    {
     "name": "stdout",
     "output_type": "stream",
     "text": [
      "bread\n",
      "eggs\n",
      "milk\n"
     ]
    }
   ],
   "source": [
    "#Q6\n",
    "\n",
    "def grocery(*args):\n",
    "    for arg in args:\n",
    "        print(arg)\n",
    "grocery('bread','eggs','milk')\n"
   ]
  },
  {
   "cell_type": "code",
   "execution_count": null,
   "metadata": {},
   "outputs": [],
   "source": []
  }
 ],
 "metadata": {
  "kernelspec": {
   "display_name": "Python 3",
   "language": "python",
   "name": "python3"
  },
  "language_info": {
   "codemirror_mode": {
    "name": "ipython",
    "version": 3
   },
   "file_extension": ".py",
   "mimetype": "text/x-python",
   "name": "python",
   "nbconvert_exporter": "python",
   "pygments_lexer": "ipython3",
   "version": "3.7.4"
  }
 },
 "nbformat": 4,
 "nbformat_minor": 2
}
